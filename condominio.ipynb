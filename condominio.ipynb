{
 "cells": [
  {
   "cell_type": "code",
   "execution_count": 27,
   "metadata": {},
   "outputs": [],
   "source": [
    "import pandas as pd"
   ]
  },
  {
   "cell_type": "code",
   "execution_count": 28,
   "metadata": {},
   "outputs": [
    {
     "data": {
      "text/html": [
       "<div>\n",
       "<style scoped>\n",
       "    .dataframe tbody tr th:only-of-type {\n",
       "        vertical-align: middle;\n",
       "    }\n",
       "\n",
       "    .dataframe tbody tr th {\n",
       "        vertical-align: top;\n",
       "    }\n",
       "\n",
       "    .dataframe thead th {\n",
       "        text-align: right;\n",
       "    }\n",
       "</style>\n",
       "<table border=\"1\" class=\"dataframe\">\n",
       "  <thead>\n",
       "    <tr style=\"text-align: right;\">\n",
       "      <th></th>\n",
       "      <th>Data</th>\n",
       "      <th>Histórico</th>\n",
       "      <th>Valor</th>\n",
       "      <th>Tipo</th>\n",
       "    </tr>\n",
       "  </thead>\n",
       "  <tbody>\n",
       "    <tr>\n",
       "      <th>0</th>\n",
       "      <td>2021-01-05</td>\n",
       "      <td>Honorários serv. prestados pela Campos 12/2020.</td>\n",
       "      <td>1572.00</td>\n",
       "      <td>CONTA ORDINÁRIA</td>\n",
       "    </tr>\n",
       "    <tr>\n",
       "      <th>1</th>\n",
       "      <td>2021-01-05</td>\n",
       "      <td>Emissão de boletos 12/2020.</td>\n",
       "      <td>62.40</td>\n",
       "      <td>CONTA ORDINÁRIA</td>\n",
       "    </tr>\n",
       "    <tr>\n",
       "      <th>2</th>\n",
       "      <td>2021-01-06</td>\n",
       "      <td>Tarifa Conta Certa 01/2021 ( Itaú ).</td>\n",
       "      <td>80.68</td>\n",
       "      <td>CONTA ORDINÁRIA</td>\n",
       "    </tr>\n",
       "    <tr>\n",
       "      <th>3</th>\n",
       "      <td>2021-01-06</td>\n",
       "      <td>Tarifa Conta Certa Exced 01/2021 ( Itaú ).</td>\n",
       "      <td>30.54</td>\n",
       "      <td>CONTA ORDINÁRIA</td>\n",
       "    </tr>\n",
       "    <tr>\n",
       "      <th>4</th>\n",
       "      <td>2021-01-08</td>\n",
       "      <td>Remuneração Sindico 12/2020.</td>\n",
       "      <td>1108.38</td>\n",
       "      <td>CONTA ORDINÁRIA</td>\n",
       "    </tr>\n",
       "    <tr>\n",
       "      <th>...</th>\n",
       "      <td>...</td>\n",
       "      <td>...</td>\n",
       "      <td>...</td>\n",
       "      <td>...</td>\n",
       "    </tr>\n",
       "    <tr>\n",
       "      <th>1265</th>\n",
       "      <td>2023-05-31</td>\n",
       "      <td>Taxa anual elevadores ano 2023 chapas 194748 /...</td>\n",
       "      <td>826.72</td>\n",
       "      <td>MANUTENÇÃO E LIMPEZA</td>\n",
       "    </tr>\n",
       "    <tr>\n",
       "      <th>1266</th>\n",
       "      <td>2023-05-31</td>\n",
       "      <td>Imposto de Renda 05/2023 ( CDB-DI ).</td>\n",
       "      <td>73.95</td>\n",
       "      <td>FUNDO DE RESERVA</td>\n",
       "    </tr>\n",
       "    <tr>\n",
       "      <th>1267</th>\n",
       "      <td>2023-05-31</td>\n",
       "      <td>Imposto de Renda 05/2023 ( C/P 88.851-9 ).</td>\n",
       "      <td>0.03</td>\n",
       "      <td>ALUGUEL COBERTURA</td>\n",
       "    </tr>\n",
       "    <tr>\n",
       "      <th>1268</th>\n",
       "      <td>2023-05-31</td>\n",
       "      <td>Imposto de Renda 05/2023 ( C/P 88.853-5 ).</td>\n",
       "      <td>0.03</td>\n",
       "      <td>ALUGUEL COBERTURA</td>\n",
       "    </tr>\n",
       "    <tr>\n",
       "      <th>1269</th>\n",
       "      <td>2023-05-31</td>\n",
       "      <td>Kamel CF. 29491 lampada tubular.</td>\n",
       "      <td>30.00</td>\n",
       "      <td>CAIXA INTERNO</td>\n",
       "    </tr>\n",
       "  </tbody>\n",
       "</table>\n",
       "<p>1270 rows × 4 columns</p>\n",
       "</div>"
      ],
      "text/plain": [
       "           Data                                          Histórico    Valor  \\\n",
       "0    2021-01-05    Honorários serv. prestados pela Campos 12/2020.  1572.00   \n",
       "1    2021-01-05                        Emissão de boletos 12/2020.    62.40   \n",
       "2    2021-01-06               Tarifa Conta Certa 01/2021 ( Itaú ).    80.68   \n",
       "3    2021-01-06         Tarifa Conta Certa Exced 01/2021 ( Itaú ).    30.54   \n",
       "4    2021-01-08                       Remuneração Sindico 12/2020.  1108.38   \n",
       "...         ...                                                ...      ...   \n",
       "1265 2023-05-31  Taxa anual elevadores ano 2023 chapas 194748 /...   826.72   \n",
       "1266 2023-05-31               Imposto de Renda 05/2023 ( CDB-DI ).    73.95   \n",
       "1267 2023-05-31         Imposto de Renda 05/2023 ( C/P 88.851-9 ).     0.03   \n",
       "1268 2023-05-31         Imposto de Renda 05/2023 ( C/P 88.853-5 ).     0.03   \n",
       "1269 2023-05-31                   Kamel CF. 29491 lampada tubular.    30.00   \n",
       "\n",
       "                      Tipo  \n",
       "0          CONTA ORDINÁRIA  \n",
       "1          CONTA ORDINÁRIA  \n",
       "2          CONTA ORDINÁRIA  \n",
       "3          CONTA ORDINÁRIA  \n",
       "4          CONTA ORDINÁRIA  \n",
       "...                    ...  \n",
       "1265  MANUTENÇÃO E LIMPEZA  \n",
       "1266      FUNDO DE RESERVA  \n",
       "1267     ALUGUEL COBERTURA  \n",
       "1268     ALUGUEL COBERTURA  \n",
       "1269         CAIXA INTERNO  \n",
       "\n",
       "[1270 rows x 4 columns]"
      ]
     },
     "execution_count": 28,
     "metadata": {},
     "output_type": "execute_result"
    }
   ],
   "source": [
    "dados = pd.read_excel(r'C:\\Users\\Jonathan\\OneDrive\\Área de Trabalho\\analise_imigrantes\\dados\\condominio.xlsx')\n",
    "dados = pd.DataFrame(dados)\n",
    "dados"
   ]
  },
  {
   "cell_type": "code",
   "execution_count": 29,
   "metadata": {},
   "outputs": [],
   "source": [
    "dados.to_csv('condominio.csv',index=False,encoding='utf-8')"
   ]
  },
  {
   "cell_type": "code",
   "execution_count": null,
   "metadata": {},
   "outputs": [],
   "source": [
    "filtro = dados[['Data','Histórico',\t'Valor','Tipo']][dados['Histórico'] == 'A ']\n",
    "filtro"
   ]
  },
  {
   "cell_type": "code",
   "execution_count": null,
   "metadata": {},
   "outputs": [],
   "source": [
    "dados['Categoria'] = dados['Histórico'].apply(lambda x: ' '.join(x.split()[:2]))"
   ]
  },
  {
   "cell_type": "code",
   "execution_count": null,
   "metadata": {},
   "outputs": [],
   "source": [
    "dados"
   ]
  },
  {
   "cell_type": "code",
   "execution_count": null,
   "metadata": {},
   "outputs": [],
   "source": []
  }
 ],
 "metadata": {
  "kernelspec": {
   "display_name": "vStreamlit",
   "language": "python",
   "name": "python3"
  },
  "language_info": {
   "codemirror_mode": {
    "name": "ipython",
    "version": 3
   },
   "file_extension": ".py",
   "mimetype": "text/x-python",
   "name": "python",
   "nbconvert_exporter": "python",
   "pygments_lexer": "ipython3",
   "version": "3.9.0"
  },
  "orig_nbformat": 4
 },
 "nbformat": 4,
 "nbformat_minor": 2
}
